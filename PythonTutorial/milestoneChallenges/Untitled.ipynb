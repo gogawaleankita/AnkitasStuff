{
 "cells": [
  {
   "cell_type": "code",
   "execution_count": 5,
   "metadata": {},
   "outputs": [],
   "source": [
    "import math \n",
    "import sys\n",
    "import os\n",
    "import re\n",
    "import random"
   ]
  },
  {
   "cell_type": "code",
   "execution_count": null,
   "metadata": {},
   "outputs": [],
   "source": [
    "def goodSegment(badNumbers,l,r):\n",
    "    print(badNumbers.sort(reversed=True))\n",
    "    mylist=[]\n",
    "    # for i in badNumbers:\n",
    "if __name__== '__main__':\n",
    "    # fptr=open(os.environ['OUTPUT_PATH'],'w')\n",
    "    badNumbers_count=int(input().strip())\n",
    "    badNumbers=[]\n",
    "    for _ in range(badNumbers_count):\n",
    "\n",
    "        badNumbers_item=int(input().strip())\n",
    "        badNumbers.append(badNumbers_item)\n",
    "    l=int(input().strip())\n",
    "    r=int(input().strip())\n",
    "    result=goodSegment(badNumbers,l,r)\n",
    "    print(result)"
   ]
  },
  {
   "cell_type": "code",
   "execution_count": null,
   "metadata": {},
   "outputs": [],
   "source": []
  }
 ],
 "metadata": {
  "kernelspec": {
   "display_name": "Python 3",
   "language": "python",
   "name": "python3"
  }
 },
 "nbformat": 4,
 "nbformat_minor": 4
}
