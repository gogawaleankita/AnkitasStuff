{
 "cells": [
  {
   "cell_type": "code",
   "execution_count": 1,
   "metadata": {},
   "outputs": [],
   "source": [
    "import pandas as pd\n",
    "import numpy as np"
   ]
  },
  {
   "cell_type": "code",
   "execution_count": 4,
   "metadata": {},
   "outputs": [
    {
     "name": "stdout",
     "output_type": "stream",
     "text": [
      "                 AAP will watch tomorrow for ONG entry.  1\n",
      "0     i'm assuming FCX opens tomorrow above the 34.2...  1\n",
      "1     It really worries me how everyone expects the ...  1\n",
      "2     AAP GAMCO's arry Haverty : Apple Is Extremely ...  1\n",
      "3     user Maykiljil posted that.  I agree that MSFT...  1\n",
      "4     Momentum is coming back to ETFC Broke MA200 re...  1\n",
      "...                                                 ... ..\n",
      "5776  Industry body CII said #discoms are likely to ... -1\n",
      "5777  #Gold prices slip below Rs 46,000 as #investor... -1\n",
      "5778  Workers at Bajaj Auto have agreed to a 10% wag...  1\n",
      "5779  #Sharemarket LIVE: Sensex off day’s high, up 6...  1\n",
      "5780  #Sensex, #Nifty climb off day's highs, still u...  1\n",
      "\n",
      "[5781 rows x 2 columns]\n"
     ]
    }
   ],
   "source": [
    "data=pd.read_csv('E:/D/PyCharmWorkspaces/datasets/stockmarket1.csv',skiprows=10,pa)\n",
    "print(data)\n"
   ]
  },
  {
   "cell_type": "code",
   "execution_count": null,
   "metadata": {},
   "outputs": [],
   "source": []
  }
 ],
 "metadata": {
  "kernelspec": {
   "display_name": "Python 3",
   "language": "python",
   "name": "python3"
  },
  "language_info": {
   "codemirror_mode": {
    "name": "ipython",
    "version": 3
   },
   "file_extension": ".py",
   "mimetype": "text/x-python",
   "name": "python",
   "nbconvert_exporter": "python",
   "pygments_lexer": "ipython3",
   "version": "3.7.1"
  }
 },
 "nbformat": 4,
 "nbformat_minor": 4
}
