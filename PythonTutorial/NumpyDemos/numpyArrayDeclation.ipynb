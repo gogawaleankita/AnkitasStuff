{
 "cells": [
  {
   "cell_type": "code",
   "execution_count": 2,
   "metadata": {},
   "outputs": [],
   "source": [
    "import numpy as np "
   ]
  },
  {
   "cell_type": "markdown",
   "metadata": {},
   "source": [
    "##2 Dimensional Array##"
   ]
  },
  {
   "cell_type": "code",
   "execution_count": 5,
   "metadata": {},
   "outputs": [
    {
     "data": {
      "text/plain": [
       "array([[1., 0., 0.],\n",
       "       [1., 0., 1.]])"
      ]
     },
     "execution_count": 5,
     "metadata": {},
     "output_type": "execute_result"
    }
   ],
   "source": [
    "myarray = np.array([[1,0,0],[1,0,\"1\"]],dtype='float64')\n",
    "\n",
    "myarray"
   ]
  },
  {
   "cell_type": "code",
   "execution_count": 31,
   "metadata": {},
   "outputs": [
    {
     "name": "stdout",
     "output_type": "stream",
     "text": [
      "complex128\n",
      "2 \n",
      " (2, 4) \n",
      " 8\n"
     ]
    }
   ],
   "source": [
    "\n",
    "y = np.array([3+4j, 0.4+7.8j])\n",
    "print(y.dtype)\n",
    "n = [[-1, -2, -3, -4], [-2,-4, -6, -8]]\n",
    "\n",
    "x= np.array(n)\n",
    "print(x.ndim,\"\\n\",x.shape,\"\\n\",x.size)"
   ]
  },
  {
   "cell_type": "markdown",
   "metadata": {},
   "source": [
    "By Using List \n"
   ]
  },
  {
   "cell_type": "code",
   "execution_count": 36,
   "metadata": {},
   "outputs": [
    {
     "data": {
      "text/plain": [
       "(numpy.ndarray, 2, (6, 2))"
      ]
     },
     "execution_count": 36,
     "metadata": {},
     "output_type": "execute_result"
    }
   ],
   "source": [
    "n = [5, 10, 15, 20, 25]\n",
    "\n",
    "a =  [\n",
    "    [4.1, 2.5], [1.1, 2.3], [9.1, 2.5], \n",
    "     [8.6, 9.9],[3.6, 4.3], [6.6, 0.3]\n",
    "]\n",
    "\n",
    "x = np.array(a, dtype='float64')\n",
    "\n",
    "type(x), x.ndim, x.shape"
   ]
  },
  {
   "cell_type": "code",
   "execution_count": 38,
   "metadata": {},
   "outputs": [
    {
     "name": "stdout",
     "output_type": "stream",
     "text": [
      "[['a' 'a' 'a' 'a']\n",
      " ['a' 'a' 'a' 'a']]\n"
     ]
    }
   ],
   "source": [
    "x = np.full(shape=(2,4),fill_value='a')\n",
    "print(x)"
   ]
  },
  {
   "cell_type": "code",
   "execution_count": 40,
   "metadata": {},
   "outputs": [
    {
     "data": {
      "text/plain": [
       "array([ 3,  6,  9, 12, 15, 18, 21, 24, 27])"
      ]
     },
     "execution_count": 40,
     "metadata": {},
     "output_type": "execute_result"
    }
   ],
   "source": [
    "x= np.arange(3,30,3)\n",
    "x"
   ]
  },
  {
   "cell_type": "code",
   "execution_count": 70,
   "metadata": {},
   "outputs": [
    {
     "name": "stdout",
     "output_type": "stream",
     "text": [
      "(array([ 3. ,  5.4,  7.8, 10.2, 12.6]), 2.4)\n",
      "[ 1.    3.25  5.5   7.75 10.  ]\n",
      "[1 6]\n"
     ]
    }
   ],
   "source": [
    "y = np.linspace(3, 15, 5 ,endpoint=False, retstep=True, dtype=None) # 5 is size of array 'y'\n",
    "print(y)\n",
    "print(np.linspace(1, 10, 5))\n",
    "print(np.arange(1, 10, 5))"
   ]
  },
  {
   "cell_type": "code",
   "execution_count": 60,
   "metadata": {},
   "outputs": [
    {
     "data": {
      "text/plain": [
       "array([0.54340494, 0.27836939, 0.42451759])"
      ]
     },
     "execution_count": 60,
     "metadata": {},
     "output_type": "execute_result"
    }
   ],
   "source": [
    "\n",
    "np.random.seed(100)\n",
    "x = np.random.ranf(3)\n",
    "x"
   ]
  },
  {
   "cell_type": "code",
   "execution_count": 64,
   "metadata": {},
   "outputs": [
    {
     "name": "stdout",
     "output_type": "stream",
     "text": [
      "[[[-1.74976547  0.3426804   1.1530358  -0.25243604]\n",
      "  [ 0.98132079  0.51421884  0.22117967 -1.07004333]]\n",
      "\n",
      " [[-0.18949583  0.25500144 -0.45802699  0.43516349]\n",
      "  [-0.58359505  0.81684707  0.67272081 -0.10441114]]\n",
      "\n",
      " [[-0.53128038  1.02973269 -0.43813562 -1.11831825]\n",
      "  [ 1.61898166  1.54160517 -0.25187914 -0.84243574]]]\n"
     ]
    }
   ],
   "source": [
    "np.random.seed(100)\n",
    "x = np.random.randn(3,2,4) # Standard normal distribution\n",
    "\n",
    "print(x)"
   ]
  },
  {
   "cell_type": "code",
   "execution_count": 69,
   "metadata": {},
   "outputs": [
    {
     "name": "stdout",
     "output_type": "stream",
     "text": [
      "[[1. 0. 0.]\n",
      " [0. 1. 0.]\n",
      " [0. 0. 1.]]\n"
     ]
    }
   ],
   "source": [
    "from io import StringIO\n",
    "\n",
    "y=  StringIO('''\n",
    "1,2,3,4,5,6,7,3,4,2,2,8,8,9,0,10\n",
    "''')\n",
    "\n",
    "x= np.loadtxt(y,delimiter=',')\n",
    "x\n",
    "z = np.eye(3)\n",
    "print(z)"
   ]
  },
  {
   "cell_type": "code",
   "execution_count": null,
   "metadata": {},
   "outputs": [],
   "source": [
    "\n",
    "\n"
   ]
  }
 ],
 "metadata": {
  "kernelspec": {
   "display_name": "Python 3",
   "language": "python",
   "name": "python3"
  },
  "language_info": {
   "codemirror_mode": {
    "name": "ipython",
    "version": 3
   },
   "file_extension": ".py",
   "mimetype": "text/x-python",
   "name": "python",
   "nbconvert_exporter": "python",
   "pygments_lexer": "ipython3",
   "version": "3.7.1"
  }
 },
 "nbformat": 4,
 "nbformat_minor": 4
}
