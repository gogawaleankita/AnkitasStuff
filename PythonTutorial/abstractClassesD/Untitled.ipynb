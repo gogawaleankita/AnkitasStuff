{
 "cells": [
  {
   "cell_type": "code",
   "execution_count": 10,
   "metadata": {},
   "outputs": [
    {
     "name": "stdout",
     "output_type": "stream",
     "text": [
      "Length of 'Jack' : 4\n",
      "Length of 'Black' : 5\n"
     ]
    }
   ],
   "source": [
    "def stringParser():\n",
    "    while True:\n",
    "        name = yield\n",
    "        (fname, lname) = name.split()\n",
    "        f.send(fname)\n",
    "        f.send(lname)\n",
    "\n",
    "def stringLength():\n",
    "    while True:\n",
    "        string = yield\n",
    "        print(\"Length of '{}' : {}\".format(string, len(string)))\n",
    "\n",
    "\n",
    "f = stringLength(); next(f)\n",
    "\n",
    "s = stringParser()\n",
    "next(s)\n",
    "s.send('Jack Black')"
   ]
  },
  {
   "cell_type": "code",
   "execution_count": null,
   "metadata": {},
   "outputs": [],
   "source": []
  }
 ],
 "metadata": {
  "kernelspec": {
   "display_name": "Python 3",
   "language": "python",
   "name": "python3"
  },
  "language_info": {
   "codemirror_mode": {
    "name": "ipython",
    "version": 3
   },
   "file_extension": ".py",
   "mimetype": "text/x-python",
   "name": "python",
   "nbconvert_exporter": "python",
   "pygments_lexer": "ipython3",
   "version": "3.7.1"
  }
 },
 "nbformat": 4,
 "nbformat_minor": 4
}
