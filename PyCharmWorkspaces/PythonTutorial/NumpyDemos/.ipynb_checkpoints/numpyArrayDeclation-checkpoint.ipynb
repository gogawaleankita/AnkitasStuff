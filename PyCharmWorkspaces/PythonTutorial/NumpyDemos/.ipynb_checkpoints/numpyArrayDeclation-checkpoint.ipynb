{
 "cells": [
  {
   "cell_type": "code",
   "execution_count": 5,
   "metadata": {},
   "outputs": [
    {
     "data": {
      "text/plain": [
       "list"
      ]
     },
     "execution_count": 5,
     "metadata": {},
     "output_type": "execute_result"
    }
   ],
   "source": [
    "import numpy as np "
   ]
  },
  {
   "cell_type": "markdown",
   "metadata": {},
   "source": [
    "##2 Dimensional Array##"
   ]
  },
  {
   "cell_type": "code",
   "execution_count": 25,
   "metadata": {},
   "outputs": [
    {
     "name": "stdout",
     "output_type": "stream",
     "text": [
      "float64\n"
     ]
    }
   ],
   "source": [
    "myarray = np.array([[1,0,0],[1,0,\"1\"]],dtype='float64')\n",
    "\n",
    "print((myarray.dtype))"
   ]
  },
  {
   "cell_type": "code",
   "execution_count": 31,
   "metadata": {},
   "outputs": [
    {
     "name": "stdout",
     "output_type": "stream",
     "text": [
      "complex128\n",
      "2 \n",
      " (2, 4) \n",
      " 8\n"
     ]
    }
   ],
   "source": [
    "\n",
    "y = np.array([3+4j, 0.4+7.8j])\n",
    "print(y.dtype)\n",
    "n = [[-1, -2, -3, -4], [-2,-4, -6, -8]]\n",
    "\n",
    "x= np.array(n)\n",
    "print(x.ndim,\"\\n\",x.shape,\"\\n\",x.size)"
   ]
  },
  {
   "cell_type": "markdown",
   "metadata": {},
   "source": [
    "By Using List \n"
   ]
  },
  {
   "cell_type": "code",
   "execution_count": 36,
   "metadata": {},
   "outputs": [
    {
     "data": {
      "text/plain": [
       "(numpy.ndarray, 2, (6, 2))"
      ]
     },
     "execution_count": 36,
     "metadata": {},
     "output_type": "execute_result"
    }
   ],
   "source": [
    "n = [5, 10, 15, 20, 25]\n",
    "\n",
    "a =  [\n",
    "    [4.1, 2.5], [1.1, 2.3], [9.1, 2.5], \n",
    "     [8.6, 9.9],[3.6, 4.3], [6.6, 0.3]\n",
    "]\n",
    "\n",
    "x = np.array(a, dtype='float64')\n",
    "\n",
    "type(x), x.ndim, x.shape"
   ]
  },
  {
   "cell_type": "code",
   "execution_count": 38,
   "metadata": {},
   "outputs": [
    {
     "name": "stdout",
     "output_type": "stream",
     "text": [
      "[['a' 'a' 'a' 'a']\n",
      " ['a' 'a' 'a' 'a']]\n"
     ]
    }
   ],
   "source": [
    "x = np.full(shape=(2,4),fill_value='a')\n",
    "print(x)"
   ]
  },
  {
   "cell_type": "code",
   "execution_count": 40,
   "metadata": {},
   "outputs": [
    {
     "data": {
      "text/plain": [
       "array([ 3,  6,  9, 12, 15, 18, 21, 24, 27])"
      ]
     },
     "execution_count": 40,
     "metadata": {},
     "output_type": "execute_result"
    }
   ],
   "source": [
    "x= np.arange(3,30,3)\n",
    "x"
   ]
  },
  {
   "cell_type": "code",
   "execution_count": 45,
   "metadata": {},
   "outputs": [
    {
     "name": "stdout",
     "output_type": "stream",
     "text": [
      "(array([ 3. ,  5.4,  7.8, 10.2, 12.6]), 2.4)\n"
     ]
    }
   ],
   "source": [
    "y = np.linspace(3, 15, 5 ,endpoint=False, retstep=True, dtype=None) # 5 is size of array 'y'\n",
    "print(y)"
   ]
  },
  {
   "cell_type": "code",
   "execution_count": 49,
   "metadata": {},
   "outputs": [
    {
     "name": "stdout",
     "output_type": "stream",
     "text": [
      "[0.63364823 0.74880388]\n"
     ]
    },
    {
     "data": {
      "text/plain": [
       "array([0.54340494, 0.27836939])"
      ]
     },
     "execution_count": 49,
     "metadata": {},
     "output_type": "execute_result"
    }
   ],
   "source": [
    "x = np.random.rand(2)\n",
    "print(x)\n",
    "np.random.seed(100)\n",
    "x = np.random.randint(10,50,6)\n"
   ]
  },
  {
   "cell_type": "code",
   "execution_count": null,
   "metadata": {},
   "outputs": [],
   "source": []
  }
 ],
 "metadata": {
  "kernelspec": {
   "display_name": "Python 3",
   "language": "python",
   "name": "python3"
  },
  "language_info": {
   "codemirror_mode": {
    "name": "ipython",
    "version": 3
   },
   "file_extension": ".py",
   "mimetype": "text/x-python",
   "name": "python",
   "nbconvert_exporter": "python",
   "pygments_lexer": "ipython3",
   "version": "3.7.1"
  }
 },
 "nbformat": 4,
 "nbformat_minor": 4
}
