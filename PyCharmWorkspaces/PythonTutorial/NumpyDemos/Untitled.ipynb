{
 "cells": [
  {
   "cell_type": "code",
   "execution_count": 46,
   "metadata": {},
   "outputs": [],
   "source": [
    "import numpy as np\n",
    "import pandas as pd"
   ]
  },
  {
   "cell_type": "code",
   "execution_count": 15,
   "metadata": {},
   "outputs": [],
   "source": [
    "data=np.genfromtxt('C:\\\\Users\\\\admin\\\\Documents\\\\data.csv',delimiter=',')\n"
   ]
  },
  {
   "cell_type": "code",
   "execution_count": 51,
   "metadata": {},
   "outputs": [
    {
     "name": "stdout",
     "output_type": "stream",
     "text": [
      "50\n"
     ]
    }
   ],
   "source": [
    "d1= data[:,0]\n",
    "d2=[]\n",
    "# d2=np.full(shape=(len(d1),2),fill_value=0.0)\n",
    "for i in d1:\n",
    "    \n",
    "    if i>= 5.5:\n",
    "        d2.append(1.0)\n",
    "    else :\n",
    "        d2.append(0.0)\n",
    "            \n",
    "    \n",
    "result= np.column_stack((d1,d2))\n",
    "# fob= open('C:\\\\Users\\\\admin\\\\Documents\\\\result.txt',\"w\")\n",
    "# fob.write(str(result))\n",
    "\n",
    "print(len(result[0:50]))\n",
    "\n",
    "# pickle_in = open(\"pickletest.pickle\",\"rb\")\n",
    "# ref_string = pickle.load(pickle_in)\n",
    "np.savetxt('C:\\\\Users\\\\admin\\\\Documents\\\\result.txt', result, delimiter=',', fmt='%d')"
   ]
  },
  {
   "cell_type": "code",
   "execution_count": null,
   "metadata": {},
   "outputs": [],
   "source": [
    "import numpy as np\n",
    "\n",
    "def manipulate_np_array():\n",
    "    data=np.genfromtxt('data.csv',delimiter=\",\")\n",
    "    d1= data[:,0]\n",
    "    d2=[]\n",
    "    for i in d1:\n",
    "        if i> 5.5:\n",
    "            d2.append(1.0)\n",
    "        else :\n",
    "            d2.append(0.0)\n",
    "\n",
    "    result= np.column_stack((d1,d2))\n",
    "\n",
    "    return result\n",
    "\n",
    "if __name__ == '__main__':\n",
    "  result= manipulate_np_array()\n",
    "  fob=open('result.csv','w')\n",
    "  fob.write(str(result))\n",
    "\n"
   ]
  }
 ],
 "metadata": {
  "kernelspec": {
   "display_name": "Python 3",
   "language": "python",
   "name": "python3"
  },
  "language_info": {
   "codemirror_mode": {
    "name": "ipython",
    "version": 3
   },
   "file_extension": ".py",
   "mimetype": "text/x-python",
   "name": "python",
   "nbconvert_exporter": "python",
   "pygments_lexer": "ipython3",
   "version": "3.7.1"
  }
 },
 "nbformat": 4,
 "nbformat_minor": 4
}
